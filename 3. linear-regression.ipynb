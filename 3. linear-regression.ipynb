{
 "cells": [
  {
   "cell_type": "code",
   "execution_count": 84,
   "metadata": {},
   "outputs": [
    {
     "data": {
      "text/latex": [
       "$\\displaystyle \\frac{\\left(- b - m x + y\\right)^{2}}{2 N}$"
      ],
      "text/plain": [
       "(-b - m*x + y)**2/(2*N)"
      ]
     },
     "metadata": {},
     "output_type": "display_data"
    },
    {
     "data": {
      "text/latex": [
       "$\\displaystyle \\frac{\\left(- 5 x + y - 4\\right)^{2}}{4}$"
      ],
      "text/plain": [
       "(-5*x + y - 4)**2/4"
      ]
     },
     "metadata": {},
     "output_type": "display_data"
    },
    {
     "data": {
      "text/latex": [
       "$\\displaystyle \\frac{81}{4}$"
      ],
      "text/plain": [
       "81/4"
      ]
     },
     "metadata": {},
     "output_type": "display_data"
    }
   ],
   "source": [
    "import sympy as sp\n",
    "\n",
    "vars = sp.symbols(\"x y m b N\")\n",
    "x, y, m, b, N = vars\n",
    "expr = ((y - (m*x + b)) ** 2)/(2*N)\n",
    "display(expr)\n",
    "\n",
    "display(expr.subs({N: 2, b: 4, m: 5}))\n",
    "\n",
    "# Substituting all values\n",
    "display(expr.subs({N: 2, b: 4, m: 5, x: 2, y: 5}))"
   ]
  },
  {
   "cell_type": "code",
   "execution_count": 85,
   "metadata": {},
   "outputs": [
    {
     "data": {
      "text/latex": [
       "$\\displaystyle \\frac{b + m x - y}{N}$"
      ],
      "text/plain": [
       "(b + m*x - y)/N"
      ]
     },
     "metadata": {},
     "output_type": "display_data"
    },
    {
     "data": {
      "text/latex": [
       "$\\displaystyle \\frac{x \\left(b + m x - y\\right)}{N}$"
      ],
      "text/plain": [
       "x*(b + m*x - y)/N"
      ]
     },
     "metadata": {},
     "output_type": "display_data"
    }
   ],
   "source": [
    "# Partial derivative expr with respect to b\n",
    "diff = sp.diff(expr, b)\n",
    "display(diff.simplify())\n",
    "\n",
    "# Partial derivative expr with respect to m\n",
    "display(sp.diff(expr, m).simplify())"
   ]
  },
  {
   "cell_type": "code",
   "execution_count": 86,
   "metadata": {},
   "outputs": [],
   "source": [
    "import numpy as np\n",
    "\n",
    "X = np.linspace(0, 100, 50) # Generate 50 uniform difference values between 0 and 100\n",
    "delta = np.random.uniform(-10, 10, X.size) # Generate 50 random values between -10 and 10\n",
    "Y = 0.5 * X + 3 + delta # Y = mX + C"
   ]
  },
  {
   "cell_type": "code",
   "execution_count": 87,
   "metadata": {},
   "outputs": [
    {
     "data": {
      "text/plain": [
       "<matplotlib.collections.PathCollection at 0x1af7e58ab50>"
      ]
     },
     "execution_count": 87,
     "metadata": {},
     "output_type": "execute_result"
    },
    {
     "data": {
      "image/png": "[encoded data removed]",
      "text/plain": [
       "<Figure size 432x288 with 1 Axes>"
      ]
     },
     "metadata": {
      "needs_background": "light"
     },
     "output_type": "display_data"
    }
   ],
   "source": [
    "import matplotlib.pyplot as plt\n",
    "plt.scatter(X, Y) "
   ]
  },
  {
   "cell_type": "code",
   "execution_count": 88,
   "metadata": {},
   "outputs": [],
   "source": [
    "def gradient_descent(b_val, m_val, x_val, y_val, learning_rate, num_iterations):\n",
    "    # Defining the error function\n",
    "    vars = sp.symbols('x y m b n')\n",
    "    x, y,m,b,n = vars\n",
    "    n_val = float(len(x_val))\n",
    "    error_function = ((1/(2*n)) * ((y - (m*x+b))**2))\n",
    "\n",
    "    #calculating the partial derivatives\n",
    "    error_function_b = sp.diff(error_function, b)\n",
    "    error_function_m = sp.diff(error_function, m)\n",
    "\n",
    "    # repeat for num_iterations\n",
    "    for j in range(num_iterations): \n",
    "        b_gradient = 0\n",
    "        m_gradient = 0\n",
    "        for i in range(0, len(x_val)):\n",
    "            b_gradient += error_function_b.subs({x:x_val[i], y: y_val[i], m:m_val, b:b_val, n:n_val})\n",
    "            m_gradient += error_function_m.subs({x:x_val[i], y: y_val[i], m:m_val, b:b_val, n:n_val})\n",
    "\n",
    "        #update the value for b and m    \n",
    "        b_val -= (learning_rate * b_gradient)\n",
    "        m_val -= (learning_rate * m_gradient)\n",
    "        \n",
    "    return [b_val, m_val]"
   ]
  },
  {
   "cell_type": "code",
   "execution_count": 89,
   "metadata": {},
   "outputs": [
    {
     "data": {
      "text/plain": [
       "[<matplotlib.lines.Line2D at 0x1af7e6e94c0>]"
      ]
     },
     "execution_count": 89,
     "metadata": {},
     "output_type": "execute_result"
    },
    {
     "data": {
      "image/png": "[encoded data removed]",
      "text/plain": [
       "<Figure size 432x288 with 1 Axes>"
      ]
     },
     "metadata": {
      "needs_background": "light"
     },
     "output_type": "display_data"
    }
   ],
   "source": [
    "b_val = 0\n",
    "m_val = 0\n",
    "\n",
    "# Without linear regression, no change in unknown variable values\n",
    "predictions = (m_val * X + b_val)\n",
    "plt.scatter(X, Y)\n",
    "plt.plot(X, predictions, color='r')"
   ]
  },
  {
   "cell_type": "code",
   "execution_count": 90,
   "metadata": {},
   "outputs": [
    {
     "data": {
      "text/plain": [
       "[<matplotlib.lines.Line2D at 0x1af7e7365b0>]"
      ]
     },
     "execution_count": 90,
     "metadata": {},
     "output_type": "execute_result"
    },
    {
     "data": {
      "image/png": "[encoded data removed]",
      "text/plain": [
       "<Figure size 432x288 with 1 Axes>"
      ]
     },
     "metadata": {
      "needs_background": "light"
     },
     "output_type": "display_data"
    }
   ],
   "source": [
    "b_val, m_val = gradient_descent(0, 0, X, Y, 0.0001, 10)\n",
    "\n",
    "predictions = m_val * X + b_val\n",
    "plt.scatter(X, Y)\n",
    "plt.plot(X, predictions, color='r')"
   ]
  },
  {
   "cell_type": "code",
   "execution_count": 97,
   "metadata": {},
   "outputs": [
    {
     "data": {
      "text/plain": [
       "<matplotlib.collections.PathCollection at 0x1af77610c40>"
      ]
     },
     "execution_count": 97,
     "metadata": {},
     "output_type": "execute_result"
    },
    {
     "data": {
      "image/png": "[encoded data removed]",
      "text/plain": [
       "<Figure size 432x288 with 1 Axes>"
      ]
     },
     "metadata": {
      "needs_background": "light"
     },
     "output_type": "display_data"
    }
   ],
   "source": [
    "import numpy as np\n",
    "import matplotlib.pyplot as plt\n",
    "\n",
    "X = np.linspace(0, 100, 50)\n",
    "delta = np.random.uniform(-10000, 10000, X.size)\n",
    "Y = 10 * X ** 2 + 0.5 * X + 5 + delta\n",
    "plt.scatter(X, Y)"
   ]
  },
  {
   "cell_type": "code",
   "execution_count": 98,
   "metadata": {},
   "outputs": [
    {
     "data": {
      "text/plain": [
       "[<matplotlib.lines.Line2D at 0x1af7e7c99d0>]"
      ]
     },
     "execution_count": 98,
     "metadata": {},
     "output_type": "execute_result"
    },
    {
     "data": {
      "image/png": "[encoded data removed]",
      "text/plain": [
       "<Figure size 432x288 with 1 Axes>"
      ]
     },
     "metadata": {
      "needs_background": "light"
     },
     "output_type": "display_data"
    }
   ],
   "source": [
    "b_val, m_val = gradient_descent(0, 0, X, Y, 0.0001, 20)\n",
    "\n",
    "prediction = m_val * X + b_val\n",
    "plt.scatter(X, Y)\n",
    "plt.plot(X, prediction, color='r')"
   ]
  },
  {
   "cell_type": "code",
   "execution_count": 110,
   "metadata": {},
   "outputs": [],
   "source": [
    "def gradient_descent_poly(a_val, b_val, c_val, x_val, y_val, learning_rate, num_iterations):\n",
    "  a, b, c, x, y, n = sp.symbols(\"a b c x y n\")\n",
    "  total_datapoints = len(x_val)\n",
    "  error_function = (((y-(a*(x**2)+b*x+c))**2)/(2*n))\n",
    "\n",
    "  error_function_a = sp.diff(error_function, a)\n",
    "  error_function_b = sp.diff(error_function, b)\n",
    "  error_function_c = sp.diff(error_function, c)\n",
    "\n",
    "  for _ in range(num_iterations):\n",
    "    a_gradient = 0\n",
    "    b_gradient = 0\n",
    "    c_gradient = 0\n",
    "    for i in range(total_datapoints):\n",
    "      a_gradient += error_function_a.subs({a: a_val, b: b_val, c: c_val, x: x_val[i], y: y_val[i], n: total_datapoints})\n",
    "      b_gradient += error_function_b.subs({a: a_val, b: b_val, c: c_val, x: x_val[i], y: y_val[i], n: total_datapoints})\n",
    "      c_gradient += error_function_c.subs({a: a_val, b: b_val, c: c_val, x: x_val[i], y: y_val[i], n: total_datapoints})\n",
    "    a_val -= (learning_rate * a_gradient)\n",
    "    b_val -= (learning_rate * b_gradient)\n",
    "    c_val -= (learning_rate * c_gradient)\n",
    "\n",
    "  return [a_val, b_val, c_val]"
   ]
  },
  {
   "cell_type": "code",
   "execution_count": 112,
   "metadata": {},
   "outputs": [
    {
     "name": "stdout",
     "output_type": "stream",
     "text": [
      "[10.2718723480398, -4.80807687036353, -4.99743415409640]\n"
     ]
    },
    {
     "data": {
      "text/plain": [
       "[<matplotlib.lines.Line2D at 0x1af7ff53a30>]"
      ]
     },
     "execution_count": 112,
     "metadata": {},
     "output_type": "execute_result"
    },
    {
     "data": {
      "image/png": "[encoded data removed]",
      "text/plain": [
       "<Figure size 432x288 with 1 Axes>"
      ]
     },
     "metadata": {
      "needs_background": "light"
     },
     "output_type": "display_data"
    }
   ],
   "source": [
    "predictions = gradient_descent_poly(-5, -5, -5, X, Y, 0.00000001, 20)\n",
    "print(predictions)\n",
    "plt.scatter(X, Y)\n",
    "plt.plot(X, (predictions[0] * (X ** 2)) + predictions[1] * X + predictions[2], color='r')"
   ]
  },
  {
   "cell_type": "code",
   "execution_count": 113,
   "metadata": {},
   "outputs": [
    {
     "data": {
      "text/plain": [
       "<matplotlib.collections.PathCollection at 0x1af00019a30>"
      ]
     },
     "execution_count": 113,
     "metadata": {},
     "output_type": "execute_result"
    },
    {
     "data": {
      "image/png": "[encoded data removed]",
      "text/plain": [
       "<Figure size 432x288 with 1 Axes>"
      ]
     },
     "metadata": {
      "needs_background": "light"
     },
     "output_type": "display_data"
    }
   ],
   "source": [
    "X = np.linspace(0, 100, 50)\n",
    "Y = np.zeros(X.size)\n",
    "Y[25:50] = 1\n",
    "plt.scatter(X, Y)"
   ]
  },
  {
   "cell_type": "code",
   "execution_count": 123,
   "metadata": {},
   "outputs": [],
   "source": [
    "def gradient_descent_logistic(b_val, m_val, x_val, y_val, learning_rate, num_iterations):\n",
    "    # Defining the error function\n",
    "    vars = sp.symbols('x y m b n')\n",
    "    x,y,m,b,n = vars\n",
    "    n_val = float(len(x_val))\n",
    "    error_function = -(1/(n)) * ((y * sp.log(1/ (1+(sp.exp(-(m*x+b)))))) + ((1-y) * sp.log(1 - (1/ (1+(sp.exp(-(m*x+b))))))))\n",
    "\n",
    "    #calculating the partial derivatives\n",
    "    error_function_b = sp.diff(error_function, b)\n",
    "    error_function_m = sp.diff(error_function, m)\n",
    "\n",
    "    # repeat for num_iterations\n",
    "    for j in range(num_iterations): \n",
    "        b_gradient = 0\n",
    "        m_gradient = 0\n",
    "        for i in range(0, len(x_val)):\n",
    "            b_gradient += error_function_b.subs({x:x_val[i], y: y_val[i], m:m_val, b:b_val, n:n_val})\n",
    "            m_gradient += error_function_m.subs({x:x_val[i], y: y_val[i], m:m_val, b:b_val, n:n_val})\n",
    "\n",
    "        #update the value for b and m    \n",
    "        b_val -= (learning_rate * b_gradient)\n",
    "        m_val -= (learning_rate * m_gradient)\n",
    "        \n",
    "    return [b_val, m_val]"
   ]
  },
  {
   "cell_type": "code",
   "execution_count": null,
   "metadata": {},
   "outputs": [],
   "source": [
    "import math\n",
    "vals = gradient_descent_logistic(-10, -5, X, Y, .01, 20)\n",
    "m_val = vals[1]\n",
    "b_val = vals[0]\n",
    "print(m_val, b_val)\n",
    "predictions = [1/(1+math.exp(-((m_val * X[i]) + b_val))) for i in range(len(X))]\n",
    "# plt.scatter(X, Y)\n",
    "plt.plot(X, predictions, color='r')"
   ]
  },
  {
   "cell_type": "code",
   "execution_count": 128,
   "metadata": {},
   "outputs": [
    {
     "name": "stdout",
     "output_type": "stream",
     "text": [
      "Accuracy 1.00\n",
      "Accuracy 1.00\n"
     ]
    },
    {
     "name": "stderr",
     "output_type": "stream",
     "text": [
      "D:\\Softwares\\Python\\lib\\site-packages\\sklearn\\linear_model\\_logistic.py:814: ConvergenceWarning: lbfgs failed to converge (status=1):\n",
      "STOP: TOTAL NO. of ITERATIONS REACHED LIMIT.\n",
      "\n",
      "Increase the number of iterations (max_iter) or scale the data as shown in:\n",
      "    https://scikit-learn.org/stable/modules/preprocessing.html\n",
      "Please also refer to the documentation for alternative solver options:\n",
      "    https://scikit-learn.org/stable/modules/linear_model.html#logistic-regression\n",
      "  n_iter_i = _check_optimize_result(\n"
     ]
    }
   ],
   "source": [
    "from sklearn.datasets import load_iris\n",
    "from sklearn.model_selection import train_test_split\n",
    "from sklearn.linear_model import LogisticRegression \n",
    "from sklearn.metrics import accuracy_score\n",
    "\n",
    "iris_dataset = load_iris()\n",
    "X_train, X_test, y_train, y_test = train_test_split(iris_dataset.data, iris_dataset.target, random_state=0, test_size=0.2)\n",
    "lgr = LogisticRegression()\n",
    "lgr.fit(X_train, y_train)\n",
    "print(\"Accuracy {:.2f}\".format(lgr.score(X_test, y_test)))\n",
    "print(\"Accuracy {:.2f}\".format(accuracy_score(y_test, lgr.predict(X_test))))\n"
   ]
  }
 ],
 "metadata": {
  "interpreter": {
   "hash": "23226dcb379d0ed0866266b24bdca6ba08c94e9c5b850a146778e390a9c8ac73"
  },
  "kernelspec": {
   "display_name": "Python 3.9.7 64-bit",
   "language": "python",
   "name": "python3"
  },
  "language_info": {
   "codemirror_mode": {
    "name": "ipython",
    "version": 3
   },
   "file_extension": ".py",
   "mimetype": "text/x-python",
   "name": "python",
   "nbconvert_exporter": "python",
   "pygments_lexer": "ipython3",
   "version": "3.9.7"
  },
  "orig_nbformat": 4
 },
 "nbformat": 4,
 "nbformat_minor": 2
}
