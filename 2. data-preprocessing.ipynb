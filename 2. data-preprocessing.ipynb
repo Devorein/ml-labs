{
 "cells": [
  {
   "cell_type": "code",
   "execution_count": 30,
   "metadata": {},
   "outputs": [
    {
     "name": "stdout",
     "output_type": "stream",
     "text": [
      "opportunity_id          0\n",
      "content_id              0\n",
      "vol_requests            0\n",
      "event_time              0\n",
      "title                   0\n",
      "hits                    0\n",
      "summary                 0\n",
      "is_priority           603\n",
      "category_id            48\n",
      "category_desc          48\n",
      "amsl                  665\n",
      "amsl_unit             665\n",
      "org_title               0\n",
      "org_content_id          0\n",
      "addresses_count         0\n",
      "locality               70\n",
      "region                  0\n",
      "postalcode              6\n",
      "primary_loc           665\n",
      "display_url             0\n",
      "recurrence_type         0\n",
      "hours                   0\n",
      "created_date            0\n",
      "last_modified_date      0\n",
      "start_date_date         0\n",
      "end_date_date           0\n",
      "status                  0\n",
      "Latitude              665\n",
      "Longitude             665\n",
      "Community Board       665\n",
      "Community Council     665\n",
      "Census Tract          665\n",
      "BIN                   665\n",
      "BBL                   665\n",
      "NTA                   665\n",
      "dtype: int64\n"
     ]
    }
   ],
   "source": [
    "import pandas as pd\n",
    "import numpy as np\n",
    "\n",
    "volunteer = pd.read_csv(\"./volunteer_opportunities.csv\")\n",
    "volunteer.head()\n",
    "volunteer.shape\n",
    "nadf = volunteer.isna().sum()\n",
    "print(nadf)"
   ]
  },
  {
   "cell_type": "code",
   "execution_count": 31,
   "metadata": {},
   "outputs": [
    {
     "data": {
      "text/plain": [
       "(665, 32)"
      ]
     },
     "execution_count": 31,
     "metadata": {},
     "output_type": "execute_result"
    }
   ],
   "source": [
    "# Dropping na features\n",
    "volunteer = volunteer.drop(['BIN', 'BBL', 'NTA'], axis=1)\n",
    "volunteer.shape"
   ]
  },
  {
   "cell_type": "code",
   "execution_count": 34,
   "metadata": {},
   "outputs": [
    {
     "name": "stdout",
     "output_type": "stream",
     "text": [
      "48\n",
      "(617, 32)\n"
     ]
    }
   ],
   "source": [
    "# Checking the number of null values for a single column\n",
    "print(volunteer['category_desc'].isna().sum())\n",
    "volunteer_subset = volunteer[volunteer['category_desc'].notnull()]\n",
    "print(volunteer_subset.shape)"
   ]
  },
  {
   "cell_type": "code",
   "execution_count": 36,
   "metadata": {},
   "outputs": [
    {
     "name": "stdout",
     "output_type": "stream",
     "text": [
      "Shape of dataframe before dropping rows (665, 32)\n",
      "Shape of dataframe after dropping rows (617, 32)\n"
     ]
    }
   ],
   "source": [
    "print(\"Shape of dataframe before dropping rows\", volunteer.shape)\n",
    "volunteer = volunteer.dropna(axis=0, subset=['category_desc'])\n",
    "print(\"Shape of dataframe after dropping rows\", volunteer.shape)"
   ]
  },
  {
   "cell_type": "code",
   "execution_count": 44,
   "metadata": {},
   "outputs": [
    {
     "name": "stdout",
     "output_type": "stream",
     "text": [
      "       eggs  salt  spam\n",
      "month                  \n",
      "Jan      47  12.0    17\n",
      "Feb     110  50.0    31\n",
      "Mar     221  89.0    72\n",
      "Apr      77  87.0    20\n",
      "May     132  50.0    52\n",
      "Jun     205  60.0    55\n",
      "       salt\n",
      "month      \n",
      "Jan    12.0\n",
      "Feb    50.0\n",
      "Mar    89.0\n",
      "Apr    87.0\n",
      "May     NaN\n",
      "Jun    60.0\n"
     ]
    }
   ],
   "source": [
    "# Imputing missing values\n",
    "sales = pd.read_csv(\"sales.csv\", index_col=['month'])\n",
    "sales\n",
    "\n",
    "print(sales.fillna(50))\n",
    "print(sales[['salt']])"
   ]
  },
  {
   "cell_type": "code",
   "execution_count": 49,
   "metadata": {},
   "outputs": [
    {
     "data": {
      "text/plain": [
       "array([[ 47. ,  12. ,  17. ],\n",
       "       [110. ,  50. ,  31. ],\n",
       "       [221. ,  89. ,  72. ],\n",
       "       [ 77. ,  87. ,  20. ],\n",
       "       [132. ,  59.6,  52. ],\n",
       "       [205. ,  60. ,  55. ]])"
      ]
     },
     "execution_count": 49,
     "metadata": {},
     "output_type": "execute_result"
    }
   ],
   "source": [
    "from sklearn.impute import SimpleImputer\n",
    "\n",
    "imputer = SimpleImputer(missing_values=np.nan, strategy='mean')\n",
    "imputer.fit(sales)\n",
    "sales = imputer.transform(sales)\n",
    "sales"
   ]
  },
  {
   "cell_type": "code",
   "execution_count": 50,
   "metadata": {},
   "outputs": [
    {
     "name": "stdout",
     "output_type": "stream",
     "text": [
      "(426, 30)\n",
      "(426,)\n"
     ]
    }
   ],
   "source": [
    "from sklearn.datasets import load_breast_cancer\n",
    "from sklearn.model_selection import train_test_split\n",
    "\n",
    "cancer = load_breast_cancer()\n",
    "X_train, X_test, y_train, y_test = train_test_split(cancer.data, cancer.target, random_state = 0)\n",
    "print(X_train.shape)\n",
    "print(y_train.shape)"
   ]
  },
  {
   "cell_type": "code",
   "execution_count": 54,
   "metadata": {},
   "outputs": [
    {
     "name": "stdout",
     "output_type": "stream",
     "text": [
      "Per feature minimum before scaling\n",
      " [6.981e+00 9.710e+00 4.379e+01 1.435e+02 5.263e-02 1.938e-02 0.000e+00\n",
      " 0.000e+00 1.060e-01 4.996e-02 1.115e-01 3.628e-01 7.570e-01 7.228e+00\n",
      " 1.713e-03 2.252e-03 0.000e+00 0.000e+00 7.882e-03 8.948e-04 7.930e+00\n",
      " 1.202e+01 5.041e+01 1.852e+02 7.117e-02 2.729e-02 0.000e+00 0.000e+00\n",
      " 1.565e-01 5.504e-02]\n",
      "Per feature maximum before scaling\n",
      " [2.811e+01 3.381e+01 1.885e+02 2.501e+03 1.447e-01 3.114e-01 4.268e-01\n",
      " 2.012e-01 3.040e-01 9.744e-02 2.873e+00 4.885e+00 2.198e+01 5.422e+02\n",
      " 2.333e-02 1.064e-01 3.960e-01 5.279e-02 6.146e-02 2.984e-02 3.604e+01\n",
      " 4.954e+01 2.512e+02 4.254e+03 2.226e-01 1.058e+00 1.252e+00 2.903e-01\n",
      " 6.638e-01 2.075e-01]\n",
      "Per feature minimum after scaling\n",
      " [0. 0. 0. 0. 0. 0. 0. 0. 0. 0. 0. 0. 0. 0. 0. 0. 0. 0. 0. 0. 0. 0. 0. 0.\n",
      " 0. 0. 0. 0. 0. 0.]\n",
      "Per feature maximum after scaling\n",
      " [1. 1. 1. 1. 1. 1. 1. 1. 1. 1. 1. 1. 1. 1. 1. 1. 1. 1. 1. 1. 1. 1. 1. 1.\n",
      " 1. 1. 1. 1. 1. 1.]\n"
     ]
    }
   ],
   "source": [
    "from sklearn.preprocessing import MinMaxScaler\n",
    "\n",
    "scaler = MinMaxScaler()\n",
    "# Always fit and transform X_train\n",
    "scaler.fit(X_train)\n",
    "x_train_scaled = scaler.transform(X_train)\n",
    "\n",
    "print(\"Per feature minimum before scaling\\n {}\".format(X_train.min(axis=0)))\n",
    "print(\"Per feature maximum before scaling\\n {}\".format(X_train.max(axis=0)))\n",
    "\n",
    "print(\"Per feature minimum after scaling\\n {}\".format(x_train_scaled.min(axis=0)))\n",
    "print(\"Per feature maximum after scaling\\n {}\".format(x_train_scaled.max(axis=0)))\n",
    "\n",
    "x_test_scaled = scaler.transform(X_test)\n"
   ]
  },
  {
   "cell_type": "markdown",
   "metadata": {},
   "source": [
    "## Effect of using scaling\n",
    "\n",
    "### Accuracy without scaling"
   ]
  },
  {
   "cell_type": "code",
   "execution_count": 57,
   "metadata": {},
   "outputs": [
    {
     "name": "stdout",
     "output_type": "stream",
     "text": [
      "Accuracy without scaling 0.94\n"
     ]
    }
   ],
   "source": [
    "from sklearn.neighbors import KNeighborsClassifier\n",
    "\n",
    "knn = KNeighborsClassifier()\n",
    "\n",
    "X_train, X_test, y_train, y_test = train_test_split(cancer.data, cancer.target, test_size=0.2, random_state=0)\n",
    "\n",
    "knn.fit(X_train, y_train)\n",
    "\n",
    "print(\"Accuracy without scaling {:.2f}\".format(knn.score(X_test, y_test)))"
   ]
  },
  {
   "cell_type": "markdown",
   "metadata": {},
   "source": [
    "### Accuracy with scaling"
   ]
  },
  {
   "cell_type": "code",
   "execution_count": 58,
   "metadata": {},
   "outputs": [
    {
     "name": "stdout",
     "output_type": "stream",
     "text": [
      "Accuracy with scaling 0.96\n"
     ]
    }
   ],
   "source": [
    "scaler = MinMaxScaler()\n",
    "scaled_x_train = scaler.fit_transform(X_train)\n",
    "scaled_x_test = scaler.transform(X_test)\n",
    "\n",
    "knn2 = KNeighborsClassifier()\n",
    "\n",
    "knn2.fit(scaled_x_train, y_train)\n",
    "\n",
    "print(\"Accuracy with scaling {:.2f}\".format(knn2.score(scaled_x_test, y_test)))"
   ]
  },
  {
   "cell_type": "code",
   "execution_count": 62,
   "metadata": {},
   "outputs": [
    {
     "name": "stdout",
     "output_type": "stream",
     "text": [
      "Accuracy with StandardScaler 0.96\n"
     ]
    }
   ],
   "source": [
    "# Using standard scaler\n",
    "from sklearn.preprocessing import StandardScaler\n",
    "\n",
    "scaler = StandardScaler()\n",
    "\n",
    "knn3 = KNeighborsClassifier()\n",
    "\n",
    "scaled_x_train = scaler.fit_transform(X_train)\n",
    "scaled_x_test = scaler.transform(X_test)\n",
    "knn3.fit(scaled_x_train, y_train)\n",
    "\n",
    "print(\"Accuracy with StandardScaler {:.2f}\".format(knn3.score(scaled_x_test, y_test)))"
   ]
  },
  {
   "cell_type": "code",
   "execution_count": 77,
   "metadata": {},
   "outputs": [
    {
     "name": "stdout",
     "output_type": "stream",
     "text": [
      "  Prop_ID                     Name  \\\n",
      "0    B057  Salt Marsh Nature Trail   \n",
      "1    B073                Lullwater   \n",
      "2    B073                  Midwood   \n",
      "3    B073                Peninsula   \n",
      "4    B073                Waterfall   \n",
      "\n",
      "                                            Location      Park_Name  \\\n",
      "0  Enter behind the Salt Marsh Nature Center, loc...    Marine Park   \n",
      "1  Enter Park at Lincoln Road and Ocean Avenue en...  Prospect Park   \n",
      "2  Enter Park at Lincoln Road and Ocean Avenue en...  Prospect Park   \n",
      "3  Enter Park at Lincoln Road and Ocean Avenue en...  Prospect Park   \n",
      "4  Enter Park at Lincoln Road and Ocean Avenue en...  Prospect Park   \n",
      "\n",
      "       Length Difficulty                                      Other_Details  \\\n",
      "0   0.8 miles       None  <p>The first half of this mile-long trail foll...   \n",
      "1    1.0 mile       Easy  Explore the Lullwater to see how nature thrive...   \n",
      "2  0.75 miles       Easy  Step back in time with a walk through Brooklyn...   \n",
      "3   0.5 miles       Easy  Discover how the Peninsula has changed over th...   \n",
      "4   0.5 miles       Easy  Trace the source of the Lake on the Waterfall ...   \n",
      "\n",
      "  Accessible Limited_Access  lat  lon  \n",
      "0          Y              N  NaN  NaN  \n",
      "1          N              N  NaN  NaN  \n",
      "2          N              N  NaN  NaN  \n",
      "3          N              N  NaN  NaN  \n",
      "4          N              N  NaN  NaN  \n",
      "<class 'pandas.core.frame.DataFrame'>\n",
      "RangeIndex: 33 entries, 0 to 32\n",
      "Data columns (total 11 columns):\n",
      " #   Column          Non-Null Count  Dtype  \n",
      "---  ------          --------------  -----  \n",
      " 0   Prop_ID         33 non-null     object \n",
      " 1   Name            33 non-null     object \n",
      " 2   Location        33 non-null     object \n",
      " 3   Park_Name       33 non-null     object \n",
      " 4   Length          29 non-null     object \n",
      " 5   Difficulty      27 non-null     object \n",
      " 6   Other_Details   31 non-null     object \n",
      " 7   Accessible      33 non-null     object \n",
      " 8   Limited_Access  33 non-null     object \n",
      " 9   lat             0 non-null      float64\n",
      " 10  lon             0 non-null      float64\n",
      "dtypes: float64(2), object(9)\n",
      "memory usage: 3.0+ KB\n"
     ]
    },
    {
     "data": {
      "text/html": [
       "<div>\n",
       "<style scoped>\n",
       "    .dataframe tbody tr th:only-of-type {\n",
       "        vertical-align: middle;\n",
       "    }\n",
       "\n",
       "    .dataframe tbody tr th {\n",
       "        vertical-align: top;\n",
       "    }\n",
       "\n",
       "    .dataframe thead th {\n",
       "        text-align: right;\n",
       "    }\n",
       "</style>\n",
       "<table border=\"1\" class=\"dataframe\">\n",
       "  <thead>\n",
       "    <tr style=\"text-align: right;\">\n",
       "      <th></th>\n",
       "      <th>lat</th>\n",
       "      <th>lon</th>\n",
       "    </tr>\n",
       "  </thead>\n",
       "  <tbody>\n",
       "    <tr>\n",
       "      <th>count</th>\n",
       "      <td>0.0</td>\n",
       "      <td>0.0</td>\n",
       "    </tr>\n",
       "    <tr>\n",
       "      <th>mean</th>\n",
       "      <td>NaN</td>\n",
       "      <td>NaN</td>\n",
       "    </tr>\n",
       "    <tr>\n",
       "      <th>std</th>\n",
       "      <td>NaN</td>\n",
       "      <td>NaN</td>\n",
       "    </tr>\n",
       "    <tr>\n",
       "      <th>min</th>\n",
       "      <td>NaN</td>\n",
       "      <td>NaN</td>\n",
       "    </tr>\n",
       "    <tr>\n",
       "      <th>25%</th>\n",
       "      <td>NaN</td>\n",
       "      <td>NaN</td>\n",
       "    </tr>\n",
       "    <tr>\n",
       "      <th>50%</th>\n",
       "      <td>NaN</td>\n",
       "      <td>NaN</td>\n",
       "    </tr>\n",
       "    <tr>\n",
       "      <th>75%</th>\n",
       "      <td>NaN</td>\n",
       "      <td>NaN</td>\n",
       "    </tr>\n",
       "    <tr>\n",
       "      <th>max</th>\n",
       "      <td>NaN</td>\n",
       "      <td>NaN</td>\n",
       "    </tr>\n",
       "  </tbody>\n",
       "</table>\n",
       "</div>"
      ],
      "text/plain": [
       "       lat  lon\n",
       "count  0.0  0.0\n",
       "mean   NaN  NaN\n",
       "std    NaN  NaN\n",
       "min    NaN  NaN\n",
       "25%    NaN  NaN\n",
       "50%    NaN  NaN\n",
       "75%    NaN  NaN\n",
       "max    NaN  NaN"
      ]
     },
     "execution_count": 77,
     "metadata": {},
     "output_type": "execute_result"
    }
   ],
   "source": [
    "# Encoding categorical columns\n",
    "hiking = pd.read_json('hiking.json')\n",
    "print(hiking.head())\n",
    "hiking.info()\n",
    "hiking.describe()"
   ]
  },
  {
   "cell_type": "code",
   "execution_count": 69,
   "metadata": {},
   "outputs": [
    {
     "name": "stdout",
     "output_type": "stream",
     "text": [
      "['Y' 'N']\n"
     ]
    }
   ],
   "source": [
    "print(hiking['Accessible'].unique())"
   ]
  },
  {
   "cell_type": "code",
   "execution_count": 78,
   "metadata": {},
   "outputs": [
    {
     "name": "stdout",
     "output_type": "stream",
     "text": [
      "0    1\n",
      "1    0\n",
      "2    0\n",
      "3    0\n",
      "4    0\n",
      "Name: Accessible, dtype: int32\n"
     ]
    }
   ],
   "source": [
    "# Encoding categorical features\n",
    "\n",
    "from sklearn.preprocessing import LabelEncoder\n",
    "\n",
    "enc = LabelEncoder()\n",
    "\n",
    "hiking['Accessible'] = enc.fit_transform(hiking['Accessible'])\n",
    "# hiking['Accessible'] = hiking['Accessible'].map({'Y': 1, 'N': 0})\n",
    "print(hiking['Accessible'].head())"
   ]
  },
  {
   "cell_type": "code",
   "execution_count": 85,
   "metadata": {},
   "outputs": [
    {
     "data": {
      "text/html": [
       "<div>\n",
       "<style scoped>\n",
       "    .dataframe tbody tr th:only-of-type {\n",
       "        vertical-align: middle;\n",
       "    }\n",
       "\n",
       "    .dataframe tbody tr th {\n",
       "        vertical-align: top;\n",
       "    }\n",
       "\n",
       "    .dataframe thead th {\n",
       "        text-align: right;\n",
       "    }\n",
       "</style>\n",
       "<table border=\"1\" class=\"dataframe\">\n",
       "  <thead>\n",
       "    <tr style=\"text-align: right;\">\n",
       "      <th></th>\n",
       "      <th>Education</th>\n",
       "      <th>Emergency Preparedness</th>\n",
       "      <th>Environment</th>\n",
       "      <th>Health</th>\n",
       "      <th>Helping Neighbors in Need</th>\n",
       "      <th>Strengthening Communities</th>\n",
       "    </tr>\n",
       "  </thead>\n",
       "  <tbody>\n",
       "    <tr>\n",
       "      <th>1</th>\n",
       "      <td>0</td>\n",
       "      <td>0</td>\n",
       "      <td>0</td>\n",
       "      <td>0</td>\n",
       "      <td>0</td>\n",
       "      <td>1</td>\n",
       "    </tr>\n",
       "    <tr>\n",
       "      <th>2</th>\n",
       "      <td>0</td>\n",
       "      <td>0</td>\n",
       "      <td>0</td>\n",
       "      <td>0</td>\n",
       "      <td>0</td>\n",
       "      <td>1</td>\n",
       "    </tr>\n",
       "    <tr>\n",
       "      <th>3</th>\n",
       "      <td>0</td>\n",
       "      <td>0</td>\n",
       "      <td>0</td>\n",
       "      <td>0</td>\n",
       "      <td>0</td>\n",
       "      <td>1</td>\n",
       "    </tr>\n",
       "    <tr>\n",
       "      <th>4</th>\n",
       "      <td>0</td>\n",
       "      <td>0</td>\n",
       "      <td>1</td>\n",
       "      <td>0</td>\n",
       "      <td>0</td>\n",
       "      <td>0</td>\n",
       "    </tr>\n",
       "    <tr>\n",
       "      <th>5</th>\n",
       "      <td>0</td>\n",
       "      <td>0</td>\n",
       "      <td>1</td>\n",
       "      <td>0</td>\n",
       "      <td>0</td>\n",
       "      <td>0</td>\n",
       "    </tr>\n",
       "  </tbody>\n",
       "</table>\n",
       "</div>"
      ],
      "text/plain": [
       "   Education  Emergency Preparedness  Environment  Health  \\\n",
       "1          0                       0            0       0   \n",
       "2          0                       0            0       0   \n",
       "3          0                       0            0       0   \n",
       "4          0                       0            1       0   \n",
       "5          0                       0            1       0   \n",
       "\n",
       "   Helping Neighbors in Need  Strengthening Communities  \n",
       "1                          0                          1  \n",
       "2                          0                          1  \n",
       "3                          0                          1  \n",
       "4                          0                          0  \n",
       "5                          0                          0  "
      ]
     },
     "execution_count": 85,
     "metadata": {},
     "output_type": "execute_result"
    }
   ],
   "source": [
    "# One hot encoding\n",
    "# volunteer.info()\n",
    "volunteer['category_desc'].unique()\n",
    "category_enc = pd.get_dummies(volunteer['category_desc'])\n",
    "category_enc.head()"
   ]
  },
  {
   "cell_type": "code",
   "execution_count": 88,
   "metadata": {},
   "outputs": [
    {
     "data": {
      "text/html": [
       "<div>\n",
       "<style scoped>\n",
       "    .dataframe tbody tr th:only-of-type {\n",
       "        vertical-align: middle;\n",
       "    }\n",
       "\n",
       "    .dataframe tbody tr th {\n",
       "        vertical-align: top;\n",
       "    }\n",
       "\n",
       "    .dataframe thead th {\n",
       "        text-align: right;\n",
       "    }\n",
       "</style>\n",
       "<table border=\"1\" class=\"dataframe\">\n",
       "  <thead>\n",
       "    <tr style=\"text-align: right;\">\n",
       "      <th></th>\n",
       "      <th>opportunity_id</th>\n",
       "      <th>content_id</th>\n",
       "      <th>event_time</th>\n",
       "      <th>title</th>\n",
       "      <th>hits</th>\n",
       "      <th>summary</th>\n",
       "      <th>is_priority</th>\n",
       "      <th>category_id</th>\n",
       "      <th>amsl</th>\n",
       "      <th>amsl_unit</th>\n",
       "      <th>...</th>\n",
       "      <th>hours</th>\n",
       "      <th>last_modified_date</th>\n",
       "      <th>start_date_date</th>\n",
       "      <th>end_date_date</th>\n",
       "      <th>status</th>\n",
       "      <th>Latitude</th>\n",
       "      <th>Longitude</th>\n",
       "      <th>Community Board</th>\n",
       "      <th>Community Council</th>\n",
       "      <th>Census Tract</th>\n",
       "    </tr>\n",
       "  </thead>\n",
       "  <tbody>\n",
       "    <tr>\n",
       "      <th>1</th>\n",
       "      <td>5008</td>\n",
       "      <td>37036</td>\n",
       "      <td>0</td>\n",
       "      <td>Web designer</td>\n",
       "      <td>22</td>\n",
       "      <td>Build a website for an Afghan business</td>\n",
       "      <td>NaN</td>\n",
       "      <td>1.0</td>\n",
       "      <td>NaN</td>\n",
       "      <td>NaN</td>\n",
       "      <td>...</td>\n",
       "      <td>0</td>\n",
       "      <td>January 25 2011</td>\n",
       "      <td>February 01 2011</td>\n",
       "      <td>February 01 2011</td>\n",
       "      <td>approved</td>\n",
       "      <td>NaN</td>\n",
       "      <td>NaN</td>\n",
       "      <td>NaN</td>\n",
       "      <td>NaN</td>\n",
       "      <td>NaN</td>\n",
       "    </tr>\n",
       "    <tr>\n",
       "      <th>2</th>\n",
       "      <td>5016</td>\n",
       "      <td>37143</td>\n",
       "      <td>0</td>\n",
       "      <td>Urban Adventures - Ice Skating at Lasker Rink</td>\n",
       "      <td>62</td>\n",
       "      <td>Please join us and the students from Mott Hall...</td>\n",
       "      <td>NaN</td>\n",
       "      <td>1.0</td>\n",
       "      <td>NaN</td>\n",
       "      <td>NaN</td>\n",
       "      <td>...</td>\n",
       "      <td>0</td>\n",
       "      <td>January 21 2011</td>\n",
       "      <td>January 29 2011</td>\n",
       "      <td>January 29 2011</td>\n",
       "      <td>approved</td>\n",
       "      <td>NaN</td>\n",
       "      <td>NaN</td>\n",
       "      <td>NaN</td>\n",
       "      <td>NaN</td>\n",
       "      <td>NaN</td>\n",
       "    </tr>\n",
       "    <tr>\n",
       "      <th>3</th>\n",
       "      <td>5022</td>\n",
       "      <td>37237</td>\n",
       "      <td>0</td>\n",
       "      <td>Fight global hunger and support women farmers ...</td>\n",
       "      <td>14</td>\n",
       "      <td>The Oxfam Action Corps is a group of dedicated...</td>\n",
       "      <td>NaN</td>\n",
       "      <td>1.0</td>\n",
       "      <td>NaN</td>\n",
       "      <td>NaN</td>\n",
       "      <td>...</td>\n",
       "      <td>0</td>\n",
       "      <td>January 25 2011</td>\n",
       "      <td>February 14 2011</td>\n",
       "      <td>March 31 2012</td>\n",
       "      <td>approved</td>\n",
       "      <td>NaN</td>\n",
       "      <td>NaN</td>\n",
       "      <td>NaN</td>\n",
       "      <td>NaN</td>\n",
       "      <td>NaN</td>\n",
       "    </tr>\n",
       "    <tr>\n",
       "      <th>4</th>\n",
       "      <td>5055</td>\n",
       "      <td>37425</td>\n",
       "      <td>0</td>\n",
       "      <td>Stop 'N' Swap</td>\n",
       "      <td>31</td>\n",
       "      <td>Stop 'N' Swap reduces NYC's waste by finding n...</td>\n",
       "      <td>NaN</td>\n",
       "      <td>4.0</td>\n",
       "      <td>NaN</td>\n",
       "      <td>NaN</td>\n",
       "      <td>...</td>\n",
       "      <td>0</td>\n",
       "      <td>February 01 2011</td>\n",
       "      <td>February 05 2011</td>\n",
       "      <td>February 05 2011</td>\n",
       "      <td>approved</td>\n",
       "      <td>NaN</td>\n",
       "      <td>NaN</td>\n",
       "      <td>NaN</td>\n",
       "      <td>NaN</td>\n",
       "      <td>NaN</td>\n",
       "    </tr>\n",
       "    <tr>\n",
       "      <th>5</th>\n",
       "      <td>5056</td>\n",
       "      <td>37426</td>\n",
       "      <td>0</td>\n",
       "      <td>Queens Stop 'N' Swap</td>\n",
       "      <td>135</td>\n",
       "      <td>Stop 'N' Swap reduces NYC's waste by finding n...</td>\n",
       "      <td>NaN</td>\n",
       "      <td>4.0</td>\n",
       "      <td>NaN</td>\n",
       "      <td>NaN</td>\n",
       "      <td>...</td>\n",
       "      <td>0</td>\n",
       "      <td>January 28 2011</td>\n",
       "      <td>February 12 2011</td>\n",
       "      <td>February 12 2011</td>\n",
       "      <td>approved</td>\n",
       "      <td>NaN</td>\n",
       "      <td>NaN</td>\n",
       "      <td>NaN</td>\n",
       "      <td>NaN</td>\n",
       "      <td>NaN</td>\n",
       "    </tr>\n",
       "  </tbody>\n",
       "</table>\n",
       "<p>5 rows × 27 columns</p>\n",
       "</div>"
      ],
      "text/plain": [
       "   opportunity_id  content_id  event_time  \\\n",
       "1            5008       37036           0   \n",
       "2            5016       37143           0   \n",
       "3            5022       37237           0   \n",
       "4            5055       37425           0   \n",
       "5            5056       37426           0   \n",
       "\n",
       "                                               title  hits  \\\n",
       "1                                       Web designer    22   \n",
       "2      Urban Adventures - Ice Skating at Lasker Rink    62   \n",
       "3  Fight global hunger and support women farmers ...    14   \n",
       "4                                      Stop 'N' Swap    31   \n",
       "5                               Queens Stop 'N' Swap   135   \n",
       "\n",
       "                                             summary is_priority  category_id  \\\n",
       "1             Build a website for an Afghan business         NaN          1.0   \n",
       "2  Please join us and the students from Mott Hall...         NaN          1.0   \n",
       "3  The Oxfam Action Corps is a group of dedicated...         NaN          1.0   \n",
       "4  Stop 'N' Swap reduces NYC's waste by finding n...         NaN          4.0   \n",
       "5  Stop 'N' Swap reduces NYC's waste by finding n...         NaN          4.0   \n",
       "\n",
       "   amsl  amsl_unit  ... hours  last_modified_date   start_date_date  \\\n",
       "1   NaN        NaN  ...     0     January 25 2011  February 01 2011   \n",
       "2   NaN        NaN  ...     0     January 21 2011   January 29 2011   \n",
       "3   NaN        NaN  ...     0     January 25 2011  February 14 2011   \n",
       "4   NaN        NaN  ...     0    February 01 2011  February 05 2011   \n",
       "5   NaN        NaN  ...     0     January 28 2011  February 12 2011   \n",
       "\n",
       "      end_date_date    status Latitude Longitude  Community Board  \\\n",
       "1  February 01 2011  approved      NaN       NaN              NaN   \n",
       "2   January 29 2011  approved      NaN       NaN              NaN   \n",
       "3     March 31 2012  approved      NaN       NaN              NaN   \n",
       "4  February 05 2011  approved      NaN       NaN              NaN   \n",
       "5  February 12 2011  approved      NaN       NaN              NaN   \n",
       "\n",
       "  Community Council  Census Tract  \n",
       "1                NaN          NaN  \n",
       "2                NaN          NaN  \n",
       "3                NaN          NaN  \n",
       "4                NaN          NaN  \n",
       "5                NaN          NaN  \n",
       "\n",
       "[5 rows x 27 columns]"
      ]
     },
     "execution_count": 88,
     "metadata": {},
     "output_type": "execute_result"
    }
   ],
   "source": [
    "# Feature selection\n",
    "columns_to_drop = ['category_desc', 'created_date', 'locality', 'region', 'vol_requests']\n",
    "\n",
    "volunteer_subset = volunteer.drop(columns_to_drop, axis=1)\n",
    "volunteer_subset.head()"
   ]
  },
  {
   "cell_type": "code",
   "execution_count": 91,
   "metadata": {},
   "outputs": [],
   "source": [
    "# Feature coorelation\n",
    "\n",
    "from sklearn.datasets import load_wine\n",
    "\n",
    "wine = load_wine()\n",
    "\n",
    "wine_df = pd.DataFrame(wine.data, columns=wine.feature_names)\n",
    "\n",
    "wine_df.head()\n",
    "\n",
    "wine_corr = wine_df.corr()"
   ]
  },
  {
   "cell_type": "code",
   "execution_count": 94,
   "metadata": {},
   "outputs": [
    {
     "data": {
      "image/png": "[encoded data removed]",
      "text/plain": [
       "<Figure size 432x288 with 2 Axes>"
      ]
     },
     "metadata": {
      "needs_background": "light"
     },
     "output_type": "display_data"
    }
   ],
   "source": [
    "import seaborn as sns\n",
    "sns.heatmap(wine_corr.abs(), cmap = 'YlGnBu')\n",
    "\n",
    "columns_to_drop = ['flavanoids']\n",
    "\n",
    "wine_df = wine_df.drop(columns_to_drop, axis=1)"
   ]
  }
 ],
 "metadata": {
  "interpreter": {
   "hash": "23226dcb379d0ed0866266b24bdca6ba08c94e9c5b850a146778e390a9c8ac73"
  },
  "kernelspec": {
   "display_name": "Python 3.9.7 64-bit",
   "language": "python",
   "name": "python3"
  },
  "language_info": {
   "codemirror_mode": {
    "name": "ipython",
    "version": 3
   },
   "file_extension": ".py",
   "mimetype": "text/x-python",
   "name": "python",
   "nbconvert_exporter": "python",
   "pygments_lexer": "ipython3",
   "version": "3.9.7"
  },
  "orig_nbformat": 4
 },
 "nbformat": 4,
 "nbformat_minor": 2
}
